{
 "cells": [
  {
   "cell_type": "markdown",
   "id": "63bb5642",
   "metadata": {},
   "source": [
    "- A **map** is an unordered, associative collection. \n",
    "- The association, or mapping, is from a **key**, which can be of any immutable type (e.g., the chapter name and number in the analogy above), to a **value** (the starting page number), which can be any Python data object. You’ll learn how to use these collections in the following chapter.\n"
   ]
  },
  {
   "cell_type": "markdown",
   "id": "c29e1d1c",
   "metadata": {},
   "source": [
    "The `del` statement removes a key-value pair from a dictionary."
   ]
  },
  {
   "cell_type": "code",
   "execution_count": 1,
   "id": "3ad91ae4",
   "metadata": {},
   "outputs": [
    {
     "name": "stdout",
     "output_type": "stream",
     "text": [
      "{'apples': 430, 'bananas': 312, 'oranges': 525}\n"
     ]
    }
   ],
   "source": [
    "inventory = {'apples': 430, 'bananas': 312, 'oranges': 525, 'pears': 217}\n",
    "\n",
    "del inventory['pears']\n",
    "\n",
    "print(inventory)\n"
   ]
  },
  {
   "cell_type": "markdown",
   "id": "7169e50e",
   "metadata": {},
   "source": [
    "Note also that the `len` function also works on dictionaries. It returns the number of key-value pairs."
   ]
  },
  {
   "cell_type": "code",
   "execution_count": 2,
   "id": "490a591d",
   "metadata": {},
   "outputs": [
    {
     "name": "stdout",
     "output_type": "stream",
     "text": [
      "Got key apples which maps to value 430\n",
      "Got key bananas which maps to value 312\n",
      "Got key pears which maps to value 217\n",
      "Got key oranges which maps to value 525\n"
     ]
    }
   ],
   "source": [
    "inventory = {'apples': 430, 'bananas': 312, 'pears': 217, 'oranges': 525}\n",
    "\n",
    "for akey in inventory.keys():     # the order in which we get the keys is not defined\n",
    "    print(\"Got key\", akey, \"which maps to value\", inventory[akey])\n"
   ]
  },
  {
   "cell_type": "markdown",
   "id": "8cc77d45",
   "metadata": {},
   "source": [
    "The order in which the keys are assigned in the loop **is not predictable**. If you want to visit the keys in alphabetic order, you must use the sorted function to produce a sorted collection of keys, like this:\n",
    "for akey in sorted(inventory.keys()):"
   ]
  },
  {
   "cell_type": "code",
   "execution_count": 4,
   "id": "a3838188",
   "metadata": {},
   "outputs": [
    {
     "name": "stdout",
     "output_type": "stream",
     "text": [
      "['apples', 'bananas', 'oranges', 'pears']\n",
      "[430, 312, 525, 217]\n"
     ]
    }
   ],
   "source": [
    "inventory = {'apples': 430, 'bananas': 312, 'oranges': 525, 'pears': 217}\n",
    "print(list(inventory.keys()))\n",
    "print(list(inventory.values()))"
   ]
  },
  {
   "cell_type": "code",
   "execution_count": 5,
   "id": "a4b68a6e",
   "metadata": {},
   "outputs": [
    {
     "name": "stdout",
     "output_type": "stream",
     "text": [
      "True\n",
      "False\n",
      "312\n"
     ]
    }
   ],
   "source": [
    "##### If we do not have that key\n",
    "inventory = {'apples': 430, 'bananas': 312, 'oranges': 525, 'pears': 217}\n",
    "print('apples' in inventory)\n",
    "print('cherries' in inventory)\n",
    "\n",
    "if 'bananas' in inventory:\n",
    "    print(inventory['bananas'])\n",
    "else:\n",
    "    print(\"We have no bananas\")\n"
   ]
  },
  {
   "cell_type": "markdown",
   "id": "8435dac0",
   "metadata": {},
   "source": [
    "#### Using the get method\n",
    "The second approach is to use the `get` method. `get` retrieves the value associated with a key, similar to the [] operator. The important difference is that get will not cause a runtime error if the key is not present. It will instead return the value None. "
   ]
  },
  {
   "cell_type": "code",
   "execution_count": null,
   "id": "658d2670",
   "metadata": {},
   "outputs": [],
   "source": [
    "inventory = {'apples': 430, 'bananas': 312, 'oranges': 525, 'pears': 217}\n",
    "\n",
    "print(inventory.get(\"apples\"))\n",
    "print(inventory.get(\"cherries\"))\n",
    "\n",
    "print(inventory.get(\"cherries\",0))\n"
   ]
  },
  {
   "cell_type": "markdown",
   "id": "2d36a645",
   "metadata": {},
   "source": [
    "#### 11-5 Aliasing\n",
    "Because dictionaries are mutable, you need to be aware of aliasing (as we saw with lists). Whenever two variables refer to the same dictionary object, changes to one affect the other. "
   ]
  },
  {
   "cell_type": "markdown",
   "id": "5be53552",
   "metadata": {},
   "source": [
    "#### 11-6 Accumulating"
   ]
  },
  {
   "cell_type": "code",
   "execution_count": 6,
   "id": "418588eb",
   "metadata": {},
   "outputs": [
    {
     "name": "stdout",
     "output_type": "stream",
     "text": [
      "{'The': 1, 'dog': 1, 'chased': 1, 'the': 3, 'rabbit': 2, 'into': 1, 'forest': 1, 'but': 1, 'was': 1, 'too': 1, 'quick.': 1}\n"
     ]
    }
   ],
   "source": [
    "sentence = \"The dog chased the rabbit into the forest but the rabbit was too quick.\"\n",
    "word_counts = {}\n",
    "\n",
    "for i in sentence.split():\n",
    "    if i not in word_counts.keys():\n",
    "        word_counts[i] = 1\n",
    "    else:\n",
    "        word_counts[i] += 1\n",
    "\n",
    "print(word_counts)\n",
    "\n",
    "#for word in sentence.split():\n",
    "#   word_counts[word] = word_counts.get(word, 0) + 1"
   ]
  },
  {
   "cell_type": "markdown",
   "id": "0f39a929",
   "metadata": {},
   "source": [
    "#### 11-8 find the key associated with the maximum value"
   ]
  },
  {
   "cell_type": "code",
   "execution_count": null,
   "id": "75126e39",
   "metadata": {},
   "outputs": [],
   "source": [
    "d = {'a': 194, 'b': 54, 'c':34, 'd': 44, 'e': 312, 'full':31}\n",
    "\n",
    "ks = d.keys()\n",
    "best_key_so_far = list(ks)[0]  # Have to turn ks into a real list before using [] to select an item\n",
    "for k in ks:\n",
    "    if d[k] > d[best_key_so_far]:\n",
    "        best_key_so_far = k\n",
    "\n",
    "print(\"key \" + best_key_so_far + \" has the highest value, \" + str(d[best_key_so_far]))\n"
   ]
  },
  {
   "cell_type": "code",
   "execution_count": null,
   "id": "685ebae8",
   "metadata": {},
   "outputs": [],
   "source": [
    "## Another example of finding the min\n",
    "placement = \"Beaches are cool places to visit in spring however the Mackinaw Bridge is near. Most people visit Mackinaw later since the island is a cool place to explore.\"\n",
    "\n",
    "d = {}\n",
    "for i in placement:\n",
    "    d[i] = d.get(i,0) + 1\n",
    "print(d)\n",
    "\n",
    "ks = d.keys()\n",
    "min_value = list(ks)[0]\n",
    "for k in ks:\n",
    "    if d[k] < d[min_value]:\n",
    "        min_value = k\n",
    "print(min_value)"
   ]
  },
  {
   "cell_type": "markdown",
   "id": "55a7650c",
   "metadata": {},
   "source": [
    "#### 11-9 When to use a dictionar\n",
    "- When a piece of data consists of a set of properties of a single item, a dictionary is often better.   \n",
    "- if you will have a collection of data pairs where multiple pairs share the same first data element, then you can’t use a dictionary, because a dictionary requires all the keys to be distinct from each other.  "
   ]
  },
  {
   "cell_type": "markdown",
   "id": "fb06cba1",
   "metadata": {},
   "source": [
    "####  11-10. Glossary\n",
    "##### dictionary\n",
    "A collection of key-value pairs that maps from keys to values. The keys can be any immutable type, and the values can be any type.\n",
    "\n",
    "##### key\n",
    "A data item that is mapped to a value in a dictionary. Keys are used to look up values in a dictionary.\n",
    "\n",
    "##### value\n",
    "The value that is associated with each key in a dictionary.\n",
    "\n",
    "##### key-value pair\n",
    "One of the pairs of items in a dictionary. Values are looked up in a dictionary by key.\n",
    "\n",
    "##### mapping type\n",
    "A mapping type is a data type comprised of a collection of keys and associated values. Python’s only built-in mapping type is the dictionary. Dictionaries implement the associative array abstract data type.\n",
    "\n"
   ]
  }
 ],
 "metadata": {
  "kernelspec": {
   "display_name": "Python 3 (ipykernel)",
   "language": "python",
   "name": "python3"
  },
  "language_info": {
   "codemirror_mode": {
    "name": "ipython",
    "version": 3
   },
   "file_extension": ".py",
   "mimetype": "text/x-python",
   "name": "python",
   "nbconvert_exporter": "python",
   "pygments_lexer": "ipython3",
   "version": "3.9.12"
  }
 },
 "nbformat": 4,
 "nbformat_minor": 5
}
