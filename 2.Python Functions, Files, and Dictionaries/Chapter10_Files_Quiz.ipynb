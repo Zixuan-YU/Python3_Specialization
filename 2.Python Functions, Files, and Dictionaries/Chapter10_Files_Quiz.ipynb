{
 "cells": [
  {
   "cell_type": "code",
   "execution_count": 1,
   "id": "0ae1e068",
   "metadata": {},
   "outputs": [
    {
     "data": {
      "text/plain": [
       "'C:\\\\REPO\\\\py\\\\Python3_Specialization'"
      ]
     },
     "execution_count": 1,
     "metadata": {},
     "output_type": "execute_result"
    }
   ],
   "source": [
    "pwd()"
   ]
  },
  {
   "cell_type": "markdown",
   "id": "b4562481",
   "metadata": {},
   "source": [
    "#### Q1\n",
    "fileref = open('travel_plans.txt', 'r')\n",
    "num = 0\n",
    "for i in fileref.readlines():\n",
    "    num += len(i)\n",
    "fileref.close()\n",
    "print(num)"
   ]
  },
  {
   "cell_type": "markdown",
   "id": "c03f313b",
   "metadata": {},
   "source": [
    "#### Q2\n",
    "fileref = open('emotion_words.txt', 'r')\n",
    "num_words = 0\n",
    "for i in fileref.readlines():\n",
    "    for j in i.split():\n",
    "    #print(i)\n",
    "        num_words += 1\n",
    "fileref.close()\n",
    "print(num_words)"
   ]
  },
  {
   "cell_type": "markdown",
   "id": "ea977629",
   "metadata": {},
   "source": [
    "#### Q3\n",
    "fileref = open('school_prompt.txt', 'r')\n",
    "num_lines = 0\n",
    "for i in fileref.readlines():\n",
    "    num_lines += 1\n",
    "fileref.close()\n",
    "print(num_lines)\n"
   ]
  },
  {
   "cell_type": "markdown",
   "id": "2a189bce",
   "metadata": {},
   "source": [
    "#### Q4\n",
    "fileref = open('school_prompt.txt', 'r')\n",
    "beginning_chars = fileref.read(30)\n",
    "fileref.close()\n",
    "print(beginning_chars)"
   ]
  },
  {
   "cell_type": "code",
   "execution_count": 2,
   "id": "41146899",
   "metadata": {},
   "outputs": [
    {
     "name": "stdout",
     "output_type": "stream",
     "text": [
      "['for', 'find', 'to', 'many', 'they', 'solid', 'for', 'have', 'some', 'ups,']\n"
     ]
    }
   ],
   "source": [
    "#### Q5\n",
    "## Challenge: Using the file school_prompt.txt, assign the third word of every line to a list called three.\n",
    "fileref = open('school_prompt2.txt', 'r')\n",
    "three = []\n",
    "for row in fileref.readlines():\n",
    "    three.append(row.split(' ')[2])\n",
    "fileref.close()\n",
    "print(three)\n"
   ]
  },
  {
   "cell_type": "markdown",
   "id": "2057904b",
   "metadata": {},
   "source": [
    "#### Q6\n",
    "\n",
    "fileref = open('emotion_words.txt', 'r')\n",
    "emotions = []\n",
    "for row in fileref.readlines():\n",
    "    emotions.append(row.split(' ')[0])\n",
    "fileref.close()\n",
    "print(emotions)"
   ]
  },
  {
   "cell_type": "markdown",
   "id": "6f508dc5",
   "metadata": {},
   "source": [
    "#### Q7\n",
    "fileref = open('travel_plans.txt', 'r')\n",
    "first_chars = fileref.read(33)"
   ]
  },
  {
   "cell_type": "markdown",
   "id": "d34a0bef",
   "metadata": {},
   "source": [
    "#### Q8\n",
    "fileref = open('school_prompt.txt', 'r')\n",
    "p_words = []\n",
    "for row in fileref.readlines():\n",
    "    for i in row.split():\n",
    "        if 'p' in i:\n",
    "            p_words.append(i)\n",
    "\n",
    "fileref.close()\n",
    "print(p_words)"
   ]
  }
 ],
 "metadata": {
  "kernelspec": {
   "display_name": "Python 3 (ipykernel)",
   "language": "python",
   "name": "python3"
  },
  "language_info": {
   "codemirror_mode": {
    "name": "ipython",
    "version": 3
   },
   "file_extension": ".py",
   "mimetype": "text/x-python",
   "name": "python",
   "nbconvert_exporter": "python",
   "pygments_lexer": "ipython3",
   "version": "3.9.12"
  }
 },
 "nbformat": 4,
 "nbformat_minor": 5
}
