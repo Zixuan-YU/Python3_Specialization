{
 "cells": [
  {
   "cell_type": "markdown",
   "id": "1c7f584b",
   "metadata": {},
   "source": [
    "Zixuan YU"
   ]
  },
  {
   "cell_type": "markdown",
   "id": "61bc5de9",
   "metadata": {},
   "source": [
    "For an instance of a class that is assigned to the variable student, what is the proper way to refer to the title attribute/instance variable?\n",
    "\n",
    "A. student.title()\n",
    "B. title.student()\n",
    "C. title.student\n",
    "**D. student(title)**\n",
    "E. student.title"
   ]
  },
  {
   "cell_type": "markdown",
   "id": "dad2136a",
   "metadata": {},
   "source": [
    "student is the object, so it goes before the period; the attribute goes after."
   ]
  },
  {
   "cell_type": "markdown",
   "id": "e22cffa5",
   "metadata": {},
   "source": [
    "### Three key concepts of loops\n",
    "**sequence iterate through**\n",
    "**accumulator variable**\n",
    "**Iterator Variable**"
   ]
  },
  {
   "cell_type": "code",
   "execution_count": 2,
   "id": "2cabae71",
   "metadata": {},
   "outputs": [
    {
     "ename": "NameError",
     "evalue": "name 'pwd' is not defined",
     "output_type": "error",
     "traceback": [
      "\u001b[1;31m---------------------------------------------------------------------------\u001b[0m",
      "\u001b[1;31mNameError\u001b[0m                                 Traceback (most recent call last)",
      "Input \u001b[1;32mIn [2]\u001b[0m, in \u001b[0;36m<cell line: 1>\u001b[1;34m()\u001b[0m\n\u001b[1;32m----> 1\u001b[0m \u001b[43mpwd\u001b[49m()\n\u001b[0;32m      2\u001b[0m setwd(\u001b[38;5;124m'\u001b[39m\u001b[38;5;124mC:\u001b[39m\u001b[38;5;130;01m\\\\\u001b[39;00m\u001b[38;5;124mUsers\u001b[39m\u001b[38;5;130;01m\\\\\u001b[39;00m\u001b[38;5;124m19092\u001b[39m\u001b[38;5;124m'\u001b[39m)\n",
      "\u001b[1;31mNameError\u001b[0m: name 'pwd' is not defined"
     ]
    }
   ],
   "source": []
  },
  {
   "cell_type": "code",
   "execution_count": null,
   "id": "d9a808b2",
   "metadata": {},
   "outputs": [],
   "source": []
  }
 ],
 "metadata": {
  "kernelspec": {
   "display_name": "Python 3 (ipykernel)",
   "language": "python",
   "name": "python3"
  },
  "language_info": {
   "codemirror_mode": {
    "name": "ipython",
    "version": 3
   },
   "file_extension": ".py",
   "mimetype": "text/x-python",
   "name": "python",
   "nbconvert_exporter": "python",
   "pygments_lexer": "ipython3",
   "version": "3.9.12"
  }
 },
 "nbformat": 4,
 "nbformat_minor": 5
}
