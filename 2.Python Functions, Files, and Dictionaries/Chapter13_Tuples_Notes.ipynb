{
 "cells": [
  {
   "cell_type": "markdown",
   "id": "afd15a08",
   "metadata": {},
   "source": [
    "#### 13-2 Tuple Packing\n",
    "Wherever python expects a single value, if multiple expressions are provided, separated by commas, they are automatically packed into a tuple. For example, we can omit the parentheses when assigning a tuple of values to a single variable."
   ]
  },
  {
   "cell_type": "code",
   "execution_count": null,
   "id": "93a4bd43",
   "metadata": {},
   "outputs": [],
   "source": [
    "julia = (\"Julia\", \"Roberts\", 1967, \"Duplicity\", 2009, \"Actress\", \"Atlanta, Georgia\")\n",
    "# or equivalently\n",
    "julia = \"Julia\", \"Roberts\", 1967, \"Duplicity\", 2009, \"Actress\", \"Atlanta, Georgia\"\n",
    "print(julia[4])\n"
   ]
  }
 ],
 "metadata": {
  "kernelspec": {
   "display_name": "Python 3 (ipykernel)",
   "language": "python",
   "name": "python3"
  },
  "language_info": {
   "codemirror_mode": {
    "name": "ipython",
    "version": 3
   },
   "file_extension": ".py",
   "mimetype": "text/x-python",
   "name": "python",
   "nbconvert_exporter": "python",
   "pygments_lexer": "ipython3",
   "version": "3.9.12"
  }
 },
 "nbformat": 4,
 "nbformat_minor": 5
}
