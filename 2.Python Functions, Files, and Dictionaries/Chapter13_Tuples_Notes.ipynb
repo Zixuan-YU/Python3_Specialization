{
 "cells": [
  {
   "cell_type": "markdown",
   "id": "afd15a08",
   "metadata": {},
   "source": [
    "#### 13-2 Tuple Packing\n",
    "Wherever python expects a single value, if multiple expressions are provided, separated by commas, they are automatically packed into a tuple. For example, we can omit the parentheses when assigning a tuple of values to a single variable."
   ]
  },
  {
   "cell_type": "code",
   "execution_count": null,
   "id": "93a4bd43",
   "metadata": {},
   "outputs": [],
   "source": [
    "julia = (\"Julia\", \"Roberts\", 1967, \"Duplicity\", 2009, \"Actress\", \"Atlanta, Georgia\")\n",
    "# or equivalently\n",
    "julia = \"Julia\", \"Roberts\", 1967, \"Duplicity\", 2009, \"Actress\", \"Atlanta, Georgia\"\n",
    "print(julia[4])\n"
   ]
  },
  {
   "cell_type": "markdown",
   "id": "e827cd3b",
   "metadata": {},
   "source": [
    "#### 13-3 Tuple packing and unpacking"
   ]
  },
  {
   "cell_type": "code",
   "execution_count": null,
   "id": "be7c3dd4",
   "metadata": {},
   "outputs": [],
   "source": [
    "(a, b, c, d) = (1, 2, 3, 4)"
   ]
  },
  {
   "cell_type": "markdown",
   "id": "aaaff7b4",
   "metadata": {},
   "source": [
    "#### Swapping Values between Variables"
   ]
  },
  {
   "cell_type": "code",
   "execution_count": 1,
   "id": "9c1a9318",
   "metadata": {},
   "outputs": [
    {
     "name": "stdout",
     "output_type": "stream",
     "text": [
      "2 1\n"
     ]
    }
   ],
   "source": [
    "a = 1\n",
    "b = 2\n",
    "(a, b) = (b, a)\n",
    "print(a, b)\n"
   ]
  },
  {
   "cell_type": "markdown",
   "id": "ee312bef",
   "metadata": {},
   "source": [
    "#### Unpacking into iteratable variables\n",
    "If you remember, the .items() dictionary method produces a sequence of tuples. Keeping this in mind, we have provided you a dictionary called pokemon. For every key value pair, append the key to the list p_names, and append the value to the list p_number. Do not use the .keys() or .values() methods."
   ]
  },
  {
   "cell_type": "code",
   "execution_count": 3,
   "id": "9e420ee8",
   "metadata": {},
   "outputs": [
    {
     "name": "stdout",
     "output_type": "stream",
     "text": [
      "['Rattata', 'Machop', 'Seel', 'Volbeat', 'Solrock']\n",
      "[19, 66, 86, 86, 126]\n"
     ]
    }
   ],
   "source": [
    "\n",
    "pokemon = {'Rattata': 19, 'Machop': 66, 'Seel': 86, 'Volbeat': 86, 'Solrock': 126}\n",
    "p_names = []\n",
    "p_number = []\n",
    "for k,v in pokemon.items():\n",
    "    p_names.append(k)\n",
    "    p_number.append(v)\n",
    "    \n",
    "    \n",
    "print(p_names)\n",
    "print(p_number)"
   ]
  },
  {
   "cell_type": "code",
   "execution_count": 4,
   "id": "c71b15b0",
   "metadata": {},
   "outputs": [
    {
     "data": {
      "text/plain": [
       "(62.8318, 314.159)"
      ]
     },
     "execution_count": 4,
     "metadata": {},
     "output_type": "execute_result"
    }
   ],
   "source": [
    "def circleInfo(r):\n",
    "    \"\"\" Return (circumference, area) of a circle of radius r \"\"\"\n",
    "    c = 2 * 3.14159 * r\n",
    "    a = 3.14159 * r * r\n",
    "    return (c, a)\n",
    "\n",
    "circleInfo(10)\n"
   ]
  },
  {
   "cell_type": "markdown",
   "id": "a9e1de9b",
   "metadata": {},
   "source": [
    "Unpacking the output"
   ]
  },
  {
   "cell_type": "code",
   "execution_count": 5,
   "id": "9e794156",
   "metadata": {},
   "outputs": [
    {
     "name": "stdout",
     "output_type": "stream",
     "text": [
      "62.8318\n",
      "314.159\n"
     ]
    }
   ],
   "source": [
    "\n",
    "circumference, area = circleInfo(10)\n",
    "print(circumference)\n",
    "print(area)"
   ]
  },
  {
   "cell_type": "code",
   "execution_count": 6,
   "id": "7a8a9e6b",
   "metadata": {},
   "outputs": [
    {
     "name": "stdout",
     "output_type": "stream",
     "text": [
      "62.8318\n",
      "314.159\n"
     ]
    }
   ],
   "source": [
    "\n",
    "circumference, area = circleInfo(10)\n",
    "print(circumference)\n",
    "print(area)"
   ]
  },
  {
   "cell_type": "markdown",
   "id": "3abf1103",
   "metadata": {},
   "source": [
    "Unpacking the outpu"
   ]
  },
  {
   "cell_type": "code",
   "execution_count": 7,
   "id": "387711a6",
   "metadata": {},
   "outputs": [
    {
     "name": "stdout",
     "output_type": "stream",
     "text": [
      "62.8318\n",
      "314.159\n"
     ]
    }
   ],
   "source": [
    "circumference, area = circleInfo(10)\n",
    "print(circumference)\n",
    "print(area)"
   ]
  },
  {
   "cell_type": "markdown",
   "id": "fd5b8405",
   "metadata": {},
   "source": [
    "#### 13-5 Tell python to unpack"
   ]
  },
  {
   "cell_type": "code",
   "execution_count": 8,
   "id": "60e9988b",
   "metadata": {},
   "outputs": [
    {
     "name": "stdout",
     "output_type": "stream",
     "text": [
      "7\n",
      "9\n"
     ]
    }
   ],
   "source": [
    "def add(x, y):\n",
    "    return x + y\n",
    "\n",
    "print(add(3, 4))\n",
    "z = (5, 4)\n",
    "print(add(*z)) # this line will cause the values to be unpacked\n"
   ]
  },
  {
   "cell_type": "markdown",
   "id": "de01f192",
   "metadata": {},
   "source": [
    "#### 13-6 Glossary\n",
    "##### tuple\n",
    "A type of sequence, much like a list but immutable. A tuple is created by enclosing one or more values in parentheses, separated by commas.\n",
    "\n",
    "##### packing\n",
    "When multiple values are specified, separated by commas, they are packed into a tuple.\n",
    "\n",
    "##### unpacking\n",
    "When a tuple is assigned to a collection of variable names separated by commas, the tuple is unpacked and the separate values are assigned to each of the variables.\n",
    "\n",
    "##### pair\n",
    "A tuple with exactly two items."
   ]
  },
  {
   "cell_type": "code",
   "execution_count": null,
   "id": "13f09dc4",
   "metadata": {},
   "outputs": [],
   "source": []
  }
 ],
 "metadata": {
  "kernelspec": {
   "display_name": "Python 3 (ipykernel)",
   "language": "python",
   "name": "python3"
  },
  "language_info": {
   "codemirror_mode": {
    "name": "ipython",
    "version": 3
   },
   "file_extension": ".py",
   "mimetype": "text/x-python",
   "name": "python",
   "nbconvert_exporter": "python",
   "pygments_lexer": "ipython3",
   "version": "3.9.12"
  }
 },
 "nbformat": 4,
 "nbformat_minor": 5
}
