{
 "cells": [
  {
   "cell_type": "markdown",
   "id": "84f7c01a",
   "metadata": {},
   "source": [
    "#### Q1\n",
    "The dictionary Junior shows a schedule for a junior year semester. The key is the course name and the value is the number of credits. Find the total number of credits taken this semester and assign it to the variable credits. Do not hardcode this – use dictionary accumulation!"
   ]
  },
  {
   "cell_type": "code",
   "execution_count": null,
   "id": "ef233fb8",
   "metadata": {},
   "outputs": [],
   "source": [
    "Junior = {'SI 206':4, 'SI 310':4, 'BL 300':3, 'TO 313':3, 'BCOM 350':1, 'MO 300':3}\n",
    "credits = 0\n",
    "for k in Junior.keys():\n",
    "    credits = credits + Junior[k]\n",
    "\n",
    "print(credits)"
   ]
  },
  {
   "cell_type": "markdown",
   "id": "92f11bfa",
   "metadata": {},
   "source": [
    "#### Q2\n",
    "Create a dictionary, freq, that displays each character in string str1 as the key and its frequency as the value."
   ]
  },
  {
   "cell_type": "code",
   "execution_count": null,
   "id": "b439aea1",
   "metadata": {},
   "outputs": [],
   "source": [
    "str1 = \"peter piper picked a peck of pickled peppers\"\n",
    "freq = {}\n",
    "for k in str1:\n",
    "    freq[k] = freq.get(k,0) + 1"
   ]
  },
  {
   "cell_type": "markdown",
   "id": "ac98a7d4",
   "metadata": {},
   "source": [
    "#### Q3 \n",
    "Provided is a string saved to the variable name s1. Create a dictionary named counts that contains each letter in s1 and the number of times it occurs."
   ]
  },
  {
   "cell_type": "code",
   "execution_count": null,
   "id": "f35ea8f1",
   "metadata": {},
   "outputs": [],
   "source": [
    "s1 = \"hello\"\n",
    "counts = {}\n",
    "for k in s1:\n",
    "    counts[k] = counts.get(k,0) + 1"
   ]
  },
  {
   "cell_type": "markdown",
   "id": "b9fd1a58",
   "metadata": {},
   "source": [
    "#### Q4\n",
    "Create a dictionary, freq_words, that contains each word in string str1 as the key and its frequency as the value."
   ]
  },
  {
   "cell_type": "code",
   "execution_count": null,
   "id": "92487484",
   "metadata": {},
   "outputs": [],
   "source": [
    "str1 = \"I wish I wish with all my heart to fly with dragons in a land apart\"\n",
    "freq_words = {}\n",
    "for k in str1.split():\n",
    "    freq_words[k] = freq_words.get(k,0) + 1\n"
   ]
  },
  {
   "cell_type": "markdown",
   "id": "395c0ecf",
   "metadata": {},
   "source": [
    "#### Q5\n",
    "Create a dictionary called wrd_d from the string sent, so that the key is a word and the value is how many times you have seen that word."
   ]
  },
  {
   "cell_type": "code",
   "execution_count": null,
   "id": "3227b15e",
   "metadata": {},
   "outputs": [],
   "source": [
    "sent = \"Singing in the rain and playing in the rain are two entirely different situations but both can be good\"\n",
    "wrd_d = {}\n",
    "for k in sent.split():\n",
    "    wrd_d[k] = wrd_d.get(k,0) + 1\n"
   ]
  },
  {
   "cell_type": "markdown",
   "id": "8c6b99b1",
   "metadata": {},
   "source": [
    "#### Q6\n",
    "Create the dictionary characters that shows each character from the string sally and its frequency. Then, find the most frequent letter based on the dictionary. Assign this letter to the variable best_char."
   ]
  },
  {
   "cell_type": "code",
   "execution_count": 1,
   "id": "4a31ba26",
   "metadata": {},
   "outputs": [
    {
     "name": "stdout",
     "output_type": "stream",
     "text": [
      "{'s': 8, 'a': 5, 'l': 6, 'y': 3, ' ': 11, 'e': 7, 'h': 4, 'b': 2, 't': 2, 'o': 2, 'r': 2, 'n': 1, 'd': 2}\n",
      "n\n"
     ]
    }
   ],
   "source": [
    "sally = \"sally sells sea shells by the sea shore and by the road\"\n",
    "characters = {}\n",
    "for i in sally:\n",
    "    characters[i] = characters.get(i,0) + 1\n",
    "print(characters)\n",
    "\n",
    "ks = characters.keys()\n",
    "worst_char = list(ks)[0]\n",
    "\n",
    "for k in ks:\n",
    "    if characters[k] < characters[worst_char]:\n",
    "        worst_char = k\n",
    "print(worst_char)"
   ]
  },
  {
   "cell_type": "markdown",
   "id": "b9585c5f",
   "metadata": {},
   "source": [
    "#### Q7\n",
    "Create a dictionary named letter_counts that contains each letter and the number of times it occurs in string1. **Challenge**: Letters should not be counted separately as upper-case and lower-case. Intead, all of them should be counted as lower-case."
   ]
  },
  {
   "cell_type": "code",
   "execution_count": null,
   "id": "46721883",
   "metadata": {},
   "outputs": [],
   "source": [
    "string1 = \"There is a tide in the affairs of men, Which taken at the flood, leads on to fortune. Omitted, all the voyage of their life is bound in shallows and in miseries. On such a full sea are we now afloat. And we must take the current when it serves, or lose our ventures.\"\n",
    "letter_counts = {}\n",
    "\n",
    "for i in string1:\n",
    "    letter_counts[i.lower()] = letter_counts.get(i.lower(),0) + 1\n",
    "print(letter_counts)"
   ]
  },
  {
   "cell_type": "markdown",
   "id": "a9c26b2b",
   "metadata": {},
   "source": [
    "#### Q8\n",
    "Create a dictionary called low_d that keeps track of all the characters in the string p and notes how many times each character was seen. Make sure that there are no repeats of characters as keys, such that “T” and “t” are both seen as a “t” for example."
   ]
  },
  {
   "cell_type": "code",
   "execution_count": null,
   "id": "62b0af84",
   "metadata": {},
   "outputs": [],
   "source": [
    "p = \"Summer is a great time to go outside. You have to be careful of the sun though because of the heat.\"\n",
    "low_d = {}\n",
    "\n",
    "for i in p:\n",
    "    low_d[i.lower()] = low_d.get(i.lower(),0) + 1\n",
    "print(low_d)\n"
   ]
  },
  {
   "cell_type": "code",
   "execution_count": null,
   "id": "da2fc44f",
   "metadata": {},
   "outputs": [],
   "source": []
  }
 ],
 "metadata": {
  "kernelspec": {
   "display_name": "Python 3 (ipykernel)",
   "language": "python",
   "name": "python3"
  },
  "language_info": {
   "codemirror_mode": {
    "name": "ipython",
    "version": 3
   },
   "file_extension": ".py",
   "mimetype": "text/x-python",
   "name": "python",
   "nbconvert_exporter": "python",
   "pygments_lexer": "ipython3",
   "version": "3.9.12"
  }
 },
 "nbformat": 4,
 "nbformat_minor": 5
}
