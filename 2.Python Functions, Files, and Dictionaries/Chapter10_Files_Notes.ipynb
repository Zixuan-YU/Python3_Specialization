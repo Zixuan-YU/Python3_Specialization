{
 "cells": [
  {
   "cell_type": "markdown",
   "id": "1e669c27",
   "metadata": {},
   "source": [
    "read file from line to line"
   ]
  },
  {
   "cell_type": "code",
   "execution_count": 11,
   "id": "4752e98c",
   "metadata": {},
   "outputs": [
    {
     "name": "stdout",
     "output_type": "stream",
     "text": [
      "Alabama\n",
      "Alaska\n",
      "Arizona\n",
      "Arkansas\n"
     ]
    },
    {
     "data": {
      "text/plain": [
       "<function TextIOWrapper.close()>"
      ]
     },
     "execution_count": 11,
     "metadata": {},
     "output_type": "execute_result"
    }
   ],
   "source": [
    "fileref = open(\"states.txt\",\"r\")\n",
    "lines = fileref.readlines()\n",
    "for i in lines[:4]:\n",
    "    print(i.strip())\n",
    "fileref.close"
   ]
  },
  {
   "cell_type": "markdown",
   "id": "8ed034ad",
   "metadata": {},
   "source": [
    "`filevar.read(n)` will read and return a string of n characters\n",
    "`filevar.readlines()` will read and return the next line of the file with all text up to and including the newline character\n",
    "`filevar.readlines()` will returns a list of strings, each representing a single line of the file."
   ]
  },
  {
   "cell_type": "markdown",
   "id": "167e98aa",
   "metadata": {},
   "source": [
    "10-3 Ex1:\n",
    "Using the file school_prompt2.txt, find the number of characters in the file and assign that value to the variable num_char."
   ]
  },
  {
   "cell_type": "code",
   "execution_count": 24,
   "id": "f87c2d44",
   "metadata": {},
   "outputs": [
    {
     "data": {
      "text/plain": [
       "['.git',\n",
       " '.ipynb_checkpoints',\n",
       " 'Chapter10_Files_Notes.ipynb',\n",
       " 'Chapter9_Sequences_Notes.ipynb',\n",
       " 'Jupyter_test_1.ipynb',\n",
       " 'school_prompt2.txt.txt',\n",
       " 'states.txt',\n",
       " 'Untitled.ipynb']"
      ]
     },
     "execution_count": 24,
     "metadata": {},
     "output_type": "execute_result"
    }
   ],
   "source": [
    "import os\n",
    "os.listdir(path='.')\n",
    "## list all files in current directory"
   ]
  },
  {
   "cell_type": "code",
   "execution_count": 30,
   "id": "98640433",
   "metadata": {},
   "outputs": [
    {
     "name": "stdout",
     "output_type": "stream",
     "text": [
      "536\n"
     ]
    }
   ],
   "source": [
    "fileref = open('school_prompt2.txt', \"r\")\n",
    "a = fileref.readlines()  \n",
    "num_char = 0\n",
    "#print(a[:4])\n",
    "for i in a:\n",
    "    num_char += len(i)\n",
    "        #print(j)\n",
    "fileref.close()    \n",
    "print(num_char)\n",
    "    "
   ]
  },
  {
   "cell_type": "code",
   "execution_count": 31,
   "id": "071e3544",
   "metadata": {
    "scrolled": true
   },
   "outputs": [
    {
     "name": "stdout",
     "output_type": "stream",
     "text": [
      "['This summer I will be travelling.\\n', 'I will go to...\\n', 'Italy Rome\\n', 'Greece Athens\\n', 'England London, Manchester\\n', 'France Paris, Nice, Lyon\\n', 'Spain Madrid, Barcelona, Granada\\n', 'Austria Vienna\\n', 'I will probably not even want to come back!\\n', 'However, I wonder how I will get by with all the different languages.\\n', 'I only know English!']\n"
     ]
    }
   ],
   "source": [
    "fileref = open('travel_plans2.txt','r')\n",
    "a = fileref.readlines()\n",
    "fileref.close()\n",
    "print(a)"
   ]
  },
  {
   "cell_type": "markdown",
   "id": "90e6399e",
   "metadata": {},
   "source": [
    "10-3 Ex3: Create a string called first_forty that is comprised of the first 40 characters of emotion_words2.txt."
   ]
  },
  {
   "cell_type": "code",
   "execution_count": 36,
   "id": "089264cc",
   "metadata": {},
   "outputs": [
    {
     "name": "stdout",
     "output_type": "stream",
     "text": [
      "Sad upset blue down melancholy somber bitter troubled\n",
      "Angry mad enraged irate irritable wrathful outraged infuriated\n",
      "Happy cheerful content elated joyous delighted lively glad\n",
      "Confused disoriented puzzled perplexed dazed befuddled\n",
      "Excited eager thrilled delighted\n",
      "Scared afraid fearful panicked terrified petrified startled\n",
      "Nervous anxious jittery jumpy tense uneasy apprehensive\n",
      "Sad upset blue down melancholy somber bitter troubled\n",
      "Angry mad enraged irate irritable wrathful outraged infuriated\n",
      "Happy cheerful content elated joyous delighted lively glad\n",
      "Confused disoriented puzzled perplexed dazed befuddled\n",
      "Excited eager thrilled delighted\n",
      "Scared afraid fearful panicked terrified petrified startled\n",
      "Nervous anxious jittery jumpy tense uneasy apprehensive\n"
     ]
    }
   ],
   "source": [
    "fileref = open('emotion_words2.txt','r')\n",
    "first_forty = fileref.read(40)\n",
    "print(first_forty)\n",
    "fileref.close()\n",
    "\n"
   ]
  },
  {
   "cell_type": "markdown",
   "id": "d8729ec1",
   "metadata": {},
   "source": [
    "##### 10-3 Open file in some other locations\n",
    "- `open('../myData/data2.txt', 'r')`. The `../` means to go up one level in the directory structure, to the containing folder (allProjects); `myData/` says to descend into the myData subfolder.  \n",
    "- There is also an option to use an absolute file path. e.g. `open('/Users/joebob01/myFiles/allProjects/myData/data2.txt', 'r')`"
   ]
  },
  {
   "cell_type": "markdown",
   "id": "5367d283",
   "metadata": {},
   "source": [
    "10-3 Ex:`/private/tmp/swtag.txt` is not a relative file path"
   ]
  },
  {
   "cell_type": "markdown",
   "id": "4935aa01",
   "metadata": {},
   "source": [
    "##### 10-6 : Using with for Files  \n",
    "`with open('mydata.txt', 'r') as md:` is equivalent to `md = open('mydata.txt', 'r')`. But we must **indent** out code after `with` statement"
   ]
  },
  {
   "cell_type": "markdown",
   "id": "69d5196b",
   "metadata": {},
   "source": [
    "##### 10-8 : Write Files  "
   ]
  },
  {
   "cell_type": "code",
   "execution_count": null,
   "id": "78829f28",
   "metadata": {},
   "outputs": [],
   "source": [
    "filename = \"squared_numbers.txt\"\n",
    "outfile = open(filename, \"w\")\n",
    "\n",
    "for number in range(1, 13):\n",
    "    square = number * number\n",
    "    outfile.write(str(square) + \"\\n\")\n",
    "\n",
    "outfile.close()"
   ]
  },
  {
   "cell_type": "markdown",
   "id": "cdf12785",
   "metadata": {},
   "source": [
    "##### 10-10 : Reading in data from a CSV File"
   ]
  },
  {
   "cell_type": "code",
   "execution_count": 35,
   "id": "4a96c349",
   "metadata": {},
   "outputs": [
    {
     "name": "stdout",
     "output_type": "stream",
     "text": [
      "['Name', 'Sex', 'Age', 'Team', 'Event', 'Medal']\n",
      "Edgar Lindenau Aabye: Tug-Of-War; Gold\n",
      "Arvo Ossian Aaltonen: Swimming; Bronze\n",
      "Arvo Ossian Aaltonen: Swimming; Bronze\n",
      "Juhamatti Tapio Aaltonen: Ice Hockey; Bronze\n",
      "Paavo Johannes Aaltonen: Gymnastics; Bronze\n",
      "Paavo Johannes Aaltonen: Gymnastics; Gold\n",
      "Paavo Johannes Aaltonen: Gymnastics; Gold\n",
      "Paavo Johannes Aaltonen: Gymnastics; Gold\n",
      "Paavo Johannes Aaltonen: Gymnastics; Bronze\n"
     ]
    }
   ],
   "source": [
    "fileconnection = open(\"olympics.txt\", 'r')\n",
    "lines = fileconnection.readlines()\n",
    "header = lines[0]\n",
    "field_names = header.strip().split(',')\n",
    "print(field_names)\n",
    "for row in lines[1:]:\n",
    "    vals = row.strip().split(',')\n",
    "    if vals[5] != \"NA\":\n",
    "        print(\"{}: {}; {}\".format(\n",
    "                vals[0],\n",
    "                vals[4],\n",
    "                vals[5]))"
   ]
  }
 ],
 "metadata": {
  "kernelspec": {
   "display_name": "Python 3 (ipykernel)",
   "language": "python",
   "name": "python3"
  },
  "language_info": {
   "codemirror_mode": {
    "name": "ipython",
    "version": 3
   },
   "file_extension": ".py",
   "mimetype": "text/x-python",
   "name": "python",
   "nbconvert_exporter": "python",
   "pygments_lexer": "ipython3",
   "version": "3.9.12"
  }
 },
 "nbformat": 4,
 "nbformat_minor": 5
}
