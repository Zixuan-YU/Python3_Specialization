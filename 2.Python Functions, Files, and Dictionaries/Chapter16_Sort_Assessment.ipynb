{
 "cells": [
  {
   "cell_type": "markdown",
   "id": "bf8eaeaf",
   "metadata": {},
   "source": [
    "#### Q4\n",
    "Given the same dictionary, medals, now sort by the medal count. Save the three countries with the highest medal count to the list, top_three."
   ]
  },
  {
   "cell_type": "code",
   "execution_count": 5,
   "id": "311c97cc",
   "metadata": {},
   "outputs": [
    {
     "name": "stdout",
     "output_type": "stream",
     "text": [
      "['United States', 'China', 'Russia']\n"
     ]
    }
   ],
   "source": [
    "medals = {'Japan':41, 'Russia':56, 'South Korea':21, 'United States':121, 'Germany':42, 'China':70}\n",
    "\n",
    "top_three = sorted(medals, key=lambda c: medals[c], reverse = True)[:3]\n",
    "print(top_three)"
   ]
  },
  {
   "cell_type": "markdown",
   "id": "42928cac",
   "metadata": {},
   "source": [
    "### Q5\n",
    "We have provided the dictionary groceries. You should return a list of its keys, but they should be sorted by their values, from highest to lowest. Save the new list as most_needed."
   ]
  },
  {
   "cell_type": "code",
   "execution_count": 6,
   "id": "78b29af7",
   "metadata": {},
   "outputs": [
    {
     "name": "stdout",
     "output_type": "stream",
     "text": [
      "['granola bars', 'carrots', 'spinach', 'bananas', 'onions', 'apples', 'coffee', 'cereal', 'pasta', 'salsa', 'orange juice', 'peanut butter', 'popcorn', 'rice']\n"
     ]
    }
   ],
   "source": [
    "groceries = {'apples': 5, 'pasta': 3, 'carrots': 12, 'orange juice': 2, 'bananas': 8, 'popcorn': 1, 'salsa': 3, 'cereal': 4, 'coffee': 5, 'granola bars': 15, 'onions': 7, 'rice': 1, 'peanut butter': 2, 'spinach': 9}\n",
    "\n",
    "most_needed = sorted(groceries, key=lambda x: groceries[x], reverse = True)\n",
    "print(most_needed)"
   ]
  }
 ],
 "metadata": {
  "kernelspec": {
   "display_name": "Python 3 (ipykernel)",
   "language": "python",
   "name": "python3"
  },
  "language_info": {
   "codemirror_mode": {
    "name": "ipython",
    "version": 3
   },
   "file_extension": ".py",
   "mimetype": "text/x-python",
   "name": "python",
   "nbconvert_exporter": "python",
   "pygments_lexer": "ipython3",
   "version": "3.9.12"
  }
 },
 "nbformat": 4,
 "nbformat_minor": 5
}
