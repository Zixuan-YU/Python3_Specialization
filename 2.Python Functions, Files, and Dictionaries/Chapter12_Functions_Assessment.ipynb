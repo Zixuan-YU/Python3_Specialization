{
 "cells": [
  {
   "cell_type": "markdown",
   "id": "bb185fae",
   "metadata": {},
   "source": [
    "#### Q3\n",
    "Write a function called change that takes any string, adds “Nice to meet you!” to the end of the argument given, and returns that new string."
   ]
  },
  {
   "cell_type": "code",
   "execution_count": null,
   "id": "5a9bcc76",
   "metadata": {},
   "outputs": [],
   "source": [
    "def change(a:string):\n",
    "    return a+\"Nice to meet you!\""
   ]
  },
  {
   "cell_type": "markdown",
   "id": "72e3ab6d",
   "metadata": {},
   "source": [
    "#### Q4\n",
    "Write a function, accum, that takes a list of integers as input and returns the sum of those integers."
   ]
  },
  {
   "cell_type": "code",
   "execution_count": null,
   "id": "5b79821f",
   "metadata": {},
   "outputs": [],
   "source": [
    "def accum(a_lst:list):\n",
    "    sum = 0\n",
    "    for i in a_lst:\n",
    "        sum = sum + i\n",
    "    return sum"
   ]
  },
  {
   "cell_type": "markdown",
   "id": "ce88f832",
   "metadata": {},
   "source": [
    "#### Q5\n",
    "Write a function, length, that takes in a list as the input. If the length of the list is greater than or equal to 5, return “Longer than 5”. If the length is less than 5, return “Less than 5”."
   ]
  },
  {
   "cell_type": "code",
   "execution_count": null,
   "id": "d73986bd",
   "metadata": {},
   "outputs": [],
   "source": [
    "def length(lst:list):\n",
    "    if len(lst) >= 5:\n",
    "        return \"Longer than 5\"\n",
    "    else:\n",
    "        return \"Less than 5\""
   ]
  },
  {
   "cell_type": "markdown",
   "id": "79ba0746",
   "metadata": {},
   "source": [
    "#### Q5\n",
    "You will need to write two functions for this problem. The first function, divide that takes in any number and returns that same number divided by 2. The second function called sum should take any number, divide it by 2, and add 6. It should return this new number. You should call the divide function within the sum function. Do not worry about decimals."
   ]
  },
  {
   "cell_type": "code",
   "execution_count": null,
   "id": "c1794587",
   "metadata": {},
   "outputs": [],
   "source": [
    "def divide(a):\n",
    "    return a/2\n",
    "\n",
    "def sum(a):\n",
    "    return divide(a) + 6"
   ]
  }
 ],
 "metadata": {
  "kernelspec": {
   "display_name": "Python 3 (ipykernel)",
   "language": "python",
   "name": "python3"
  },
  "language_info": {
   "codemirror_mode": {
    "name": "ipython",
    "version": 3
   },
   "file_extension": ".py",
   "mimetype": "text/x-python",
   "name": "python",
   "nbconvert_exporter": "python",
   "pygments_lexer": "ipython3",
   "version": "3.9.12"
  }
 },
 "nbformat": 4,
 "nbformat_minor": 5
}
