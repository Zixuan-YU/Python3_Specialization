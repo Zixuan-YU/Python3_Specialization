{
 "cells": [
  {
   "cell_type": "markdown",
   "id": "26282799",
   "metadata": {},
   "source": [
    "#### 12-2 Function Definitions\n",
    "**docstrings**\n",
    "\n",
    "If the first thing after the function header is a string (some tools insist that it must be a triple-quoted string), it is called a docstring and gets special treatment in Python and in some of the programming tools.  \n",
    "\n",
    "nother way to retrieve this information is to use the interactive interpreter, and enter the expression `<function_name>.__doc__`, which will retrieve the docstring for the function.   "
   ]
  },
  {
   "cell_type": "code",
   "execution_count": 1,
   "id": "118baf9e",
   "metadata": {},
   "outputs": [],
   "source": [
    "import turtle\n",
    "\n",
    "def drawSquare(t, sz):\n",
    "    \"\"\"Make turtle t draw a square of with side sz.\"\"\"\n",
    "\n",
    "    for i in range(4):\n",
    "        t.forward(sz)\n",
    "        t.left(90)\n",
    "\n",
    "\n",
    "wn = turtle.Screen()      # Set up the window and its attributes\n",
    "wn.bgcolor(\"lightgreen\")\n",
    "\n",
    "alex = turtle.Turtle()    # create alex\n",
    "drawSquare(alex, 50)      # Call the function to draw the square passing the actual turtle and the actual side size\n",
    "\n",
    "wn.exitonclick()"
   ]
  },
  {
   "cell_type": "markdown",
   "id": "c18079cb",
   "metadata": {},
   "source": [
    "A function is a named sequence of statements.  "
   ]
  },
  {
   "cell_type": "code",
   "execution_count": 3,
   "id": "24a5c6a0",
   "metadata": {},
   "outputs": [
    {
     "name": "stdout",
     "output_type": "stream",
     "text": [
      "100\n"
     ]
    }
   ],
   "source": [
    "def square(x):\n",
    "    y = x * x\n",
    "    return y\n",
    "\n",
    "toSquare = 10\n",
    "squareResult = square(toSquare)\n",
    "print(squareResult)"
   ]
  },
  {
   "cell_type": "code",
   "execution_count": 6,
   "id": "db2df48f",
   "metadata": {},
   "outputs": [
    {
     "name": "stdout",
     "output_type": "stream",
     "text": [
      "100\n",
      "The result of 10 squared is None.\n"
     ]
    }
   ],
   "source": [
    "def square(x):\n",
    "    y = x * x\n",
    "    print(y)   # Bad! This is confusing! Should use return instead!\n",
    "    \n",
    "toSquare = 10\n",
    "squareResult = square(toSquare) ## line 6\n",
    "print(\"The result of {} squared is {}.\".format(toSquare, squareResult))"
   ]
  },
  {
   "cell_type": "markdown",
   "id": "d56d02ec",
   "metadata": {},
   "source": [
    "The problem with this function is that even though it prints the value of the squared input, that value will not be returned to the place where the call was done. Instead, the value `None` will be returned. Since line 6 uses the return value as the right hand side of an assignment statement, `squareResult` will have None as its value and the result printed in line 7 is incorrect."
   ]
  },
  {
   "cell_type": "markdown",
   "id": "4e3f6eb6",
   "metadata": {},
   "source": [
    "#### 12-5 Returning a value from a function\n",
    "A return statement, once executed, **immediately terminates execution of a function**, even if it is not the last statement in the function. In the following code, when line 3 executes, the value 5 is returned and assigned to the variable x, then printed. Lines 4 and 5 never execute. Run the following code and try making some modifications of it to make sure you understand why “there” and 10 never print out."
   ]
  },
  {
   "cell_type": "code",
   "execution_count": 7,
   "id": "2eb09ca6",
   "metadata": {},
   "outputs": [
    {
     "name": "stdout",
     "output_type": "stream",
     "text": [
      "here\n",
      "5\n"
     ]
    }
   ],
   "source": [
    "def weird():\n",
    "    print(\"here\")\n",
    "    return 5\n",
    "    print(\"there\")\n",
    "    return 10\n",
    "\n",
    "x = weird()\n",
    "print(x)\n"
   ]
  },
  {
   "cell_type": "markdown",
   "id": "cd603136",
   "metadata": {},
   "source": [
    "Therefore, you should not have any statements in a function after the return statement. **REMEMBER:** Once the function gets to the return statement it will immediately stop executing the function."
   ]
  },
  {
   "cell_type": "markdown",
   "id": "d9083523",
   "metadata": {},
   "source": [
    "#### 12-5 Type Annotations"
   ]
  },
  {
   "cell_type": "code",
   "execution_count": null,
   "id": "9ec0b1c4",
   "metadata": {},
   "outputs": [],
   "source": [
    "def duplicate(msg):\n",
    "    \"\"\"Returns a string containing two copies of `msg`\"\"\"\n",
    "\n",
    "    return msg + msg"
   ]
  },
  {
   "cell_type": "markdown",
   "id": "3714a5bc",
   "metadata": {},
   "source": [
    "##### A quite confusing example"
   ]
  },
  {
   "cell_type": "code",
   "execution_count": null,
   "id": "98470175",
   "metadata": {},
   "outputs": [],
   "source": [
    "def display(msg: str):\n",
    "    \"\"\"Displays `msg` on the screen\"\"\"\n",
    "    print(msg + 2)\n",
    "\n",
    "display(2.5)"
   ]
  }
 ],
 "metadata": {
  "kernelspec": {
   "display_name": "Python 3 (ipykernel)",
   "language": "python",
   "name": "python3"
  },
  "language_info": {
   "codemirror_mode": {
    "name": "ipython",
    "version": 3
   },
   "file_extension": ".py",
   "mimetype": "text/x-python",
   "name": "python",
   "nbconvert_exporter": "python",
   "pygments_lexer": "ipython3",
   "version": "3.9.12"
  }
 },
 "nbformat": 4,
 "nbformat_minor": 5
}
