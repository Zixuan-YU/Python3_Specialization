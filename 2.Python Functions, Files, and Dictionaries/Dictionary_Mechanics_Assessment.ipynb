{
 "cells": [
  {
   "cell_type": "code",
   "execution_count": 3,
   "id": "0f3efe4e",
   "metadata": {},
   "outputs": [
    {
     "name": "stdout",
     "output_type": "stream",
     "text": [
      "{'United States': 70, 'Great Britain': 38, 'China': 45, 'Russia': 30, 'Germany': 17}\n"
     ]
    }
   ],
   "source": [
    "## Q1\n",
    "medal_count = {'United States' : 70, 'Great Britain' : 38, 'China' : 45, 'Russia' : 30, 'Germany' : 17}\n",
    "print(medal_count)"
   ]
  },
  {
   "cell_type": "code",
   "execution_count": null,
   "id": "2e5a971c",
   "metadata": {},
   "outputs": [],
   "source": []
  }
 ],
 "metadata": {
  "kernelspec": {
   "display_name": "Python 3 (ipykernel)",
   "language": "python",
   "name": "python3"
  },
  "language_info": {
   "codemirror_mode": {
    "name": "ipython",
    "version": 3
   },
   "file_extension": ".py",
   "mimetype": "text/x-python",
   "name": "python",
   "nbconvert_exporter": "python",
   "pygments_lexer": "ipython3",
   "version": "3.9.12"
  }
 },
 "nbformat": 4,
 "nbformat_minor": 5
}
