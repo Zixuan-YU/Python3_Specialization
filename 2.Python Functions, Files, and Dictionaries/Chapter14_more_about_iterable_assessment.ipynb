{
 "cells": [
  {
   "cell_type": "markdown",
   "id": "386f6c2e",
   "metadata": {},
   "source": [
    "#### Q1\n",
    "Write a function, sublist, that takes in a list of numbers as the parameter. In the function, use a while loop to return a sublist of the input list. The sublist should contain the same values of the original list up until it reaches the number 5 (it should not contain the number 5)."
   ]
  },
  {
   "cell_type": "code",
   "execution_count": 5,
   "id": "e851d515",
   "metadata": {},
   "outputs": [],
   "source": [
    "def sublist(lst):\n",
    "    sub = []\n",
    "    i = 0\n",
    "    while i < len(lst) and lst[i] != 5:\n",
    "        sub.append(lst[i])\n",
    "        i += 1\n",
    "    return sub"
   ]
  },
  {
   "cell_type": "code",
   "execution_count": 7,
   "id": "ccf1bdcb",
   "metadata": {},
   "outputs": [
    {
     "name": "stdout",
     "output_type": "stream",
     "text": [
      "[1, 2]\n"
     ]
    }
   ],
   "source": [
    "lst = [1,2,5,3]\n",
    "sublist(lst)"
   ]
  },
  {
   "cell_type": "markdown",
   "id": "0ff2d7ae",
   "metadata": {},
   "source": [
    "#### Q2\n",
    "Write a function called check_nums that takes a list as its parameter, and contains a while loop that only stops once the element of the list is the number 7. What is returned is a list of all of the numbers up until it reaches 7."
   ]
  },
  {
   "cell_type": "code",
   "execution_count": null,
   "id": "491962ed",
   "metadata": {},
   "outputs": [],
   "source": [
    "def check_nums(lst):\n",
    "    sub = []\n",
    "    i = 0\n",
    "    while i < len(lst) and lst[i] != 7:\n",
    "        sub.append(lst[i])\n",
    "        i += 1\n",
    "    return sub"
   ]
  },
  {
   "cell_type": "markdown",
   "id": "f0e24c86",
   "metadata": {},
   "source": [
    "#### Q3\n",
    "Write a function, sublist, that takes in a list of strings as the parameter. In the function, use a while loop to return a sublist of the input list. The sublist should contain the same values of the original list up until it reaches the string “STOP” (it should not contain the string “STOP”)."
   ]
  },
  {
   "cell_type": "code",
   "execution_count": 8,
   "id": "481e6e7d",
   "metadata": {},
   "outputs": [],
   "source": [
    "def sublist(lst):\n",
    "    sub = []\n",
    "    i = 0\n",
    "    while i < len(lst) and lst[i] != \"STOP\":\n",
    "        sub.append(lst[i])\n",
    "        i += 1\n",
    "    return sub"
   ]
  },
  {
   "cell_type": "markdown",
   "id": "84553d3b",
   "metadata": {},
   "source": [
    "#### Q4\n",
    "Write a function called stop_at_z that iterates through a list of strings. Using a while loop, append each string to a new list until the string that appears is “z”. The function should return the new list."
   ]
  },
  {
   "cell_type": "code",
   "execution_count": null,
   "id": "2a77bef0",
   "metadata": {},
   "outputs": [],
   "source": [
    "def stop_at_z(lst):\n",
    "    sub = []\n",
    "    i = 0\n",
    "    while i < len(lst) and lst[i] != \"z\":\n",
    "        sub.append(lst[i])\n",
    "        i += 1\n",
    "    return sub\n"
   ]
  },
  {
   "cell_type": "markdown",
   "id": "fca606d1",
   "metadata": {},
   "source": [
    "#### Q5\n",
    "Below is a for loop that works. Underneath the for loop, rewrite the problem so that it does the same thing, but using a while loop instead of a for loop. Assign the accumulated total in the while loop code to the variable sum2. Once complete, sum2 should equal sum1."
   ]
  },
  {
   "cell_type": "code",
   "execution_count": 9,
   "id": "5dd18cee",
   "metadata": {},
   "outputs": [
    {
     "name": "stdout",
     "output_type": "stream",
     "text": [
      "197 197\n"
     ]
    }
   ],
   "source": [
    "sum1 = 0\n",
    "\n",
    "lst = [65, 78, 21, 33]\n",
    "\n",
    "for x in lst:\n",
    "    sum1 = sum1 + x\n",
    "\n",
    "i = 0\n",
    "sum2 = 0\n",
    "while i < len(lst) and lst[i] != \"STOP\":\n",
    "    sum2 += lst[i]\n",
    "    i += 1\n",
    "\n",
    "print(sum1, sum2)"
   ]
  },
  {
   "cell_type": "markdown",
   "id": "e68f3796",
   "metadata": {},
   "source": [
    "#### Q6\n",
    "Challenge: Write a function called beginning that takes a list as input and contains a while loop that only stops once the element of the list is the string ‘bye’. What is returned is a list that contains up to the first 10 strings, regardless of where the loop stops. (i.e., if it stops on the 32nd element, the first 10 are returned. If “bye” is the 5th element, the first 4 are returned.) If you want to make this even more of a challenge, do this without slicing"
   ]
  },
  {
   "cell_type": "code",
   "execution_count": 10,
   "id": "1f4556d0",
   "metadata": {},
   "outputs": [
    {
     "ename": "SyntaxError",
     "evalue": "invalid syntax (1342966924.py, line 4)",
     "output_type": "error",
     "traceback": [
      "\u001b[1;36m  Input \u001b[1;32mIn [10]\u001b[1;36m\u001b[0m\n\u001b[1;33m    while i < len(lst) and lst[i]==:\u001b[0m\n\u001b[1;37m                                   ^\u001b[0m\n\u001b[1;31mSyntaxError\u001b[0m\u001b[1;31m:\u001b[0m invalid syntax\n"
     ]
    }
   ],
   "source": [
    "\n",
    "\n",
    "def beginning(lst):\n",
    "    sub = []\n",
    "    i = 0\n",
    "    while i < len(lst):\n",
    "        if lst[i] != \"bye\":\n",
    "            sub.append(lst[i])\n",
    "        else:\n",
    "            break\n",
    "        i += 1\n",
    "    return sub[:11]\n"
   ]
  },
  {
   "cell_type": "code",
   "execution_count": null,
   "id": "f13045c7",
   "metadata": {},
   "outputs": [],
   "source": []
  }
 ],
 "metadata": {
  "kernelspec": {
   "display_name": "Python 3 (ipykernel)",
   "language": "python",
   "name": "python3"
  },
  "language_info": {
   "codemirror_mode": {
    "name": "ipython",
    "version": 3
   },
   "file_extension": ".py",
   "mimetype": "text/x-python",
   "name": "python",
   "nbconvert_exporter": "python",
   "pygments_lexer": "ipython3",
   "version": "3.9.12"
  }
 },
 "nbformat": 4,
 "nbformat_minor": 5
}
