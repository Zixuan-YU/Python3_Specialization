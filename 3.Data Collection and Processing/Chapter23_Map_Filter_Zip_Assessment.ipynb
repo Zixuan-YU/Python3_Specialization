{
 "cells": [
  {
   "cell_type": "markdown",
   "id": "5a5e5611",
   "metadata": {},
   "source": [
    "Write code using zip and filter so that these lists (l1 and l2) are combined into one big list and assigned to the variable opposites if they are both longer than 3 characters each."
   ]
  },
  {
   "cell_type": "markdown",
   "id": "f5d61ae7",
   "metadata": {},
   "source": [
    "#### Map and filter in the same function"
   ]
  },
  {
   "cell_type": "code",
   "execution_count": null,
   "id": "53cdd1ef",
   "metadata": {},
   "outputs": [],
   "source": [
    "\n",
    "l1 = ['left', 'up', 'front']\n",
    "l2 = ['right', 'down', 'back']\n",
    "l3 = zip(l1,l2)\n",
    "opposites = list(filter(lambda x: len(x[0])>3 and len(x[1])>3 , zip(l1,l2)))\n",
    "#opposites  = [(a,b) for (a,b) in zip(l1,l2) if len(a)>3 and len(b)>3]"
   ]
  }
 ],
 "metadata": {
  "kernelspec": {
   "display_name": "Python 3 (ipykernel)",
   "language": "python",
   "name": "python3"
  },
  "language_info": {
   "codemirror_mode": {
    "name": "ipython",
    "version": 3
   },
   "file_extension": ".py",
   "mimetype": "text/x-python",
   "name": "python",
   "nbconvert_exporter": "python",
   "pygments_lexer": "ipython3",
   "version": "3.9.12"
  }
 },
 "nbformat": 4,
 "nbformat_minor": 5
}
