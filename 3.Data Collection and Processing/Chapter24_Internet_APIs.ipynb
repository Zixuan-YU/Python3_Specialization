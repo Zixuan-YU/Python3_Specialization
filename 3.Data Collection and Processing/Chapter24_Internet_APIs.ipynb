{
 "cells": [
  {
   "cell_type": "markdown",
   "id": "3e91104d",
   "metadata": {},
   "source": [
    "### 24-3 Anatomy of URLs\n",
    "The consistance of a linke:\n",
    "{protocol}://{server}/{arguments}  \n",
    "<scheme>://<host>:<port>/<path>\n",
    "like http://umich.edu/about"
   ]
  },
  {
   "cell_type": "markdown",
   "id": "a2ae9e72",
   "metadata": {},
   "source": [
    "- Lookups use something called the Domain Name System, or DNS for short. Changes to the mapping from domain names to IP addresses can take a little while to propagate: like 24hr delay for translating github.com to the new IP address.\n",
    "- The :port is optional. \n",
    "- Query parameters: The url http://blueserver.com/path?k=val looks a bit different from https://github.com/presnick/runestone because it includes what are called “query parameters”, the information after the `?`."
   ]
  },
  {
   "cell_type": "markdown",
   "id": "656da447",
   "metadata": {},
   "source": [
    "### 24-4 The HTTP protocol"
   ]
  }
 ],
 "metadata": {
  "kernelspec": {
   "display_name": "Python 3 (ipykernel)",
   "language": "python",
   "name": "python3"
  },
  "language_info": {
   "codemirror_mode": {
    "name": "ipython",
    "version": 3
   },
   "file_extension": ".py",
   "mimetype": "text/x-python",
   "name": "python",
   "nbconvert_exporter": "python",
   "pygments_lexer": "ipython3",
   "version": "3.9.12"
  }
 },
 "nbformat": 4,
 "nbformat_minor": 5
}
