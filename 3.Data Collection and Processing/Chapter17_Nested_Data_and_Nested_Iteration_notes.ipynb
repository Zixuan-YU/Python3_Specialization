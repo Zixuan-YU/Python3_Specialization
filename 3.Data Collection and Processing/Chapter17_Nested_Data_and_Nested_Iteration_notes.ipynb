{
 "cells": [
  {
   "cell_type": "markdown",
   "id": "d844f590",
   "metadata": {},
   "source": [
    "### 17-1 Introduction\n",
    "You can even have a list of functions (!)."
   ]
  },
  {
   "cell_type": "code",
   "execution_count": 2,
   "id": "1e2b538c",
   "metadata": {},
   "outputs": [
    {
     "name": "stdout",
     "output_type": "stream",
     "text": [
      "****names****\n",
      "<function square at 0x0000015F829623A0>\n",
      "<built-in function abs>\n",
      "<function <lambda> at 0x0000015F829628B0>\n",
      "****call each of them****\n",
      "4\n",
      "2\n",
      "-1\n",
      "****just the first one in the list****\n",
      "<function square at 0x0000015F829623A0>\n",
      "9\n"
     ]
    }
   ],
   "source": [
    "def square(x):\n",
    "    return x*x\n",
    "\n",
    "L = [square, abs, lambda x: x+1]\n",
    "\n",
    "print(\"****names****\")\n",
    "for f in L:\n",
    "    print(f)\n",
    "\n",
    "print(\"****call each of them****\")\n",
    "for f in L:\n",
    "    print(f(-2))\n",
    "\n",
    "print(\"****just the first one in the list****\")\n",
    "print(L[0])\n",
    "print(L[0](3))"
   ]
  },
  {
   "cell_type": "code",
   "execution_count": null,
   "id": "de5c2802",
   "metadata": {},
   "outputs": [],
   "source": []
  }
 ],
 "metadata": {
  "kernelspec": {
   "display_name": "Python 3 (ipykernel)",
   "language": "python",
   "name": "python3"
  },
  "language_info": {
   "codemirror_mode": {
    "name": "ipython",
    "version": 3
   },
   "file_extension": ".py",
   "mimetype": "text/x-python",
   "name": "python",
   "nbconvert_exporter": "python",
   "pygments_lexer": "ipython3",
   "version": "3.9.12"
  }
 },
 "nbformat": 4,
 "nbformat_minor": 5
}
