{
 "cells": [
  {
   "cell_type": "markdown",
   "id": "db0d967b",
   "metadata": {},
   "source": [
    "Map, and filter are commands that you would use in high-performance computing on big datasets."
   ]
  },
  {
   "cell_type": "markdown",
   "id": "798f7330",
   "metadata": {},
   "source": [
    "### 23-2 Map\n",
    "Technically, in a proper Python 3 interpreter, the map function produces an “iterator”, which is like a list but produces the items as they are needed. Most places in Python where you can use a list (e.g., in a for loop) you can use an “iterator” as if it was actually a list. So you probably won’t ever notice the difference. If you ever really need a list, you can explicitly turn the output of map into a list: `list(map(...))`. In the runestone environment, map actually returns a real list, but to make this code compatible with a full python environment, we always convert it to a list."
   ]
  },
  {
   "cell_type": "markdown",
   "id": "3e5a7edd",
   "metadata": {},
   "source": [
    "### 23-4 List Comprehensions"
   ]
  },
  {
   "cell_type": "code",
   "execution_count": null,
   "id": "0450adfb",
   "metadata": {},
   "outputs": [],
   "source": [
    "def keep_evens(nums):\n",
    "    new_list = [num for num in nums if num % 2 == 0]\n",
    "    ## first `num` is we are quoting this variable in list\n",
    "    ## second `num` is when we creat this variable\n",
    "    return new_list\n",
    "\n",
    "print(keep_evens([3, 4, 6, 7, 0, 1]))\n"
   ]
  },
  {
   "cell_type": "markdown",
   "id": "23e4a62e",
   "metadata": {},
   "source": [
    "3. Write code to assign to the variable compri all the values of the key name in any of the sub-dictionaries in the dictionary tester. Do this using a list comprehension."
   ]
  },
  {
   "cell_type": "code",
   "execution_count": null,
   "id": "84cc8d6f",
   "metadata": {},
   "outputs": [],
   "source": [
    "tester = {'info': [{\"name\": \"Lauren\", 'class standing': 'Junior', 'major': \"Information Science\"},{'name': 'Ayo', 'class standing': \"Bachelor's\", 'major': 'Information Science'}, {'name': 'Kathryn', 'class standing': 'Senior', 'major': 'Sociology'}, {'name': 'Nick', 'class standing': 'Junior', 'major': 'Computer Science'}, {'name': 'Gladys', 'class standing': 'Sophomore', 'major': 'History'}, {'name': 'Adam', 'major': 'Violin Performance', 'class standing': 'Senior'}]}\n",
    "\n",
    "#for i in tester['info']:\n",
    "#    print(i['name'])\n",
    "    \n",
    "compri = [x['name'] for x in tester['info']]"
   ]
  },
  {
   "cell_type": "markdown",
   "id": "2591b75a",
   "metadata": {},
   "source": [
    "### 23-5 Zip\n",
    "#### Pythonic way of programming!"
   ]
  },
  {
   "cell_type": "code",
   "execution_count": null,
   "id": "aa49c3b4",
   "metadata": {},
   "outputs": [],
   "source": [
    "L1 = [3, 4, 5]\n",
    "L2 = [1, 2, 3]\n",
    "L3 = [x1 + x2 for (x1, x2) in list(zip(L1, L2))]\n",
    "print(L3)\n"
   ]
  },
  {
   "cell_type": "markdown",
   "id": "01270e9a",
   "metadata": {},
   "source": [
    "Below we have provided two lists of numbers, L1 and L2. Using zip and list comprehension, create a new list, L3, that sums the two numbers if the number from L1 is greater than 10 and the number from L2 is less than 5. This can be accomplished in one line of code."
   ]
  },
  {
   "cell_type": "code",
   "execution_count": 1,
   "id": "688db135",
   "metadata": {},
   "outputs": [
    {
     "name": "stdout",
     "output_type": "stream",
     "text": [
      "[18, 57, 103]\n"
     ]
    }
   ],
   "source": [
    "\n",
    "L1 = [1, 5, 2, 16, 32, 3, 54, 8, 100]\n",
    "L2 = [1, 3, 10, 2, 42, 2, 3, 4, 3]\n",
    "\n",
    "L3 = [x1 + x2 for (x1,x2) in zip(L1, L2) if x1 > 10 and x2 < 5]\n",
    "\n",
    "print(L3)"
   ]
  }
 ],
 "metadata": {
  "kernelspec": {
   "display_name": "Python 3 (ipykernel)",
   "language": "python",
   "name": "python3"
  },
  "language_info": {
   "codemirror_mode": {
    "name": "ipython",
    "version": 3
   },
   "file_extension": ".py",
   "mimetype": "text/x-python",
   "name": "python",
   "nbconvert_exporter": "python",
   "pygments_lexer": "ipython3",
   "version": "3.9.12"
  }
 },
 "nbformat": 4,
 "nbformat_minor": 5
}
